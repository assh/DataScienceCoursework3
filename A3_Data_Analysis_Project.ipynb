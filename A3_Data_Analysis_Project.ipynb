{
 "cells": [
  {
   "cell_type": "markdown",
   "metadata": {},
   "source": [
    "## COMP5721M: Programming for Data Science \n",
    "\n",
    "## Coursework 3: Data Analysis Project\n",
    "\n",
    "Last modified: 15 November 2023\n",
    "\n",
    "# Analysis Of Youtube Trending Data\n",
    "\n",
    "\n",
    "_Give names and emails of group members here:_\n",
    "\n",
    "* Asish Panda, mm23ap@leeds.ac.uk\n",
    "* Mohamed Imthiyas Abdul Rasheeth, mm23m2ia@leeds.ac.uk\n",
    "* Naveen Sabarinath Babu, mm23nsb@leeds.ac.uk\n",
    "* Roshan ., mm23rt@leeds.ac.uk"
   ]
  },
  {
   "cell_type": "markdown",
   "metadata": {},
   "source": []
  },
  {
   "cell_type": "markdown",
   "metadata": {},
   "source": [
    "# Project Requirements\n",
    "_PLEASE DELETE THIS WHOLE CELL BEFORE SUBMITTING YOUR PROJECT_\n",
    "\n",
    "The purpose of this assignment is to develop your skills\n",
    "in organising and presenting a Data Science project.\n",
    "\n",
    "Since most of the marks will be awarded for organisation\n",
    "and presentation, it is suggested that you do not initially attempt\n",
    "anything too complicated. However, once you have managed\n",
    "to get a basic pipeline working that fits the guidelines, \n",
    "you are encouraged to extend and elaborate your analysis.\n",
    "\n",
    "Your project should entirely be contained within this template file.\n",
    "You should keep the basic structure indicated below. To facilitate\n",
    "grading according to the marking scheme.\n",
    "\n",
    "You _may_ import any module that is provided with Anaconda3 Python.\n",
    "\n",
    "\n",
    "### Marking Scheme\n",
    "\n",
    "The marking scheme  is as follows:\n",
    "\n",
    "* Project Plan:\n",
    "    * Description of data to be used (10)\n",
    "    * Overview of Project Aims  (5)\n",
    "    * Design  (5)\n",
    "    \n",
    "* Program Code: (15)<br>\n",
    "    Code should be laid out in steps with explanations\n",
    "    and intermediate output with comments. \n",
    "    You should ensure that the steps do not require\n",
    "    a large amount of processing time.\n",
    "\n",
    "* Project Outcome:\n",
    "    * Explanation of Results (10)<br>\n",
    "        This should include a qualitative description\n",
    "        of the results as well as key figures and tables\n",
    "        of results.\n",
    "    * Results visualisation (10)<br>\n",
    "        This should be graphical representations of the\n",
    "        results with brief explanations (ordinary tables will be\n",
    "        graded as part of the explanation of results)\n",
    "    * Conclusion (5)\n",
    "\n",
    "### Data Resources\n",
    "\n",
    "You can use any data you like. Many useful resources are available.\n",
    "\n",
    "The Data Resources section of the module (Unit 4.3 on Minerva) has links to several example data sets.\n",
    "\n",
    "As a starting point you could browse the following:\n",
    "* [Kaggle](https://www.kaggle.com/)\n",
    "* [Our World in Data](https://ourworldindata.org/)\n",
    "* [scikit-learn datasets](https://scikit-learn.org/stable/datasets.html)\n",
    "* [scikit-learn tutorial](https://scikit-learn.org/stable/tutorial/basic/tutorial.html)\n",
    "\n",
    "\n",
    "\n",
    "\n",
    "### Using this Notebook Template\n",
    "Please use this notebook as a template for your project file.\n",
    "In the following cells of the notebook, _italic text_ giving explanations\n",
    "and examples should be either deleted, or, in most cases, replaced by appropriate text describing your project. \n",
    "Text that is not in italic (which is mostly headings) should\n",
    "be left as it is. __Your project report notebook should the same overall\n",
    "structure as this template notebook.__\n",
    "An exception to this is the current markup cell describing the project\n",
    "requiements. You should delete this before submitting your notebook."
   ]
  },
  {
   "cell_type": "markdown",
   "metadata": {},
   "source": [
    "# Project Plan\n",
    "\n",
    "## The Data (10 marks)\n",
    "\n",
    "#_Here you should describe the data indluding details of:\n",
    "where it comes from, what data it contains, is it accurate. (Potentially you could create data from a simulation but you should still explain why and how you intend to generate this data.)_\n",
    "\n",
    "#_It can be just one dataset or several that can be combined\n",
    "somehow._\n",
    "\n",
    "#_There are 10 marks for this, so a fairly detailed description\n",
    "of the data is expected (around 300-400 words)_\n",
    "\n",
    "Youtube provides an API that provides information about trendng data country-wise. The dataset on Kaggle is a real-time (daily) updating dataset derived from the API consisting of attruibutes for various contries which is used for analysis in this project. The scope of this project limits our use to a specific daterange and limited the country to Great Britain.\n",
    "\n",
    "The dataset consists of two files , _GB_category_id.json and GB_youtube_trending_data.csv_. The files contain the follwoing column ID's\n",
    "\n",
    "### CSV:\n",
    "\n",
    " ['video_id',\n",
    " 'title',\n",
    " 'publishedAt',\n",
    " 'channelId',\n",
    " 'channelTitle',\n",
    " 'categoryId',\n",
    " 'trending_date',\n",
    " 'tags',\n",
    " 'view_count',\n",
    " 'likes',\n",
    " 'dislikes',\n",
    " 'comment_count',\n",
    " 'thumbnail_link',\n",
    " 'comments_disabled',\n",
    " 'ratings_disabled',\n",
    " 'description']\n",
    "\n",
    "### JSON:\n",
    "\n",
    "The json file contains a data structure that links the categoryId column in each file. The json file alos ha sinformation about each files category i.e ['family','Entertainment','Education']. The structure of the file is as follows\n",
    "\n",
    "```\n",
    "{\n",
    "    \"kind\": \"youtube#videoCategoryListResponse\",\n",
    "    \"etag\": \"kBCr3I9kLHHU79W4Ip5196LDptI\",\n",
    "    \"items\": [\n",
    "        {\n",
    "            \"kind\": \"youtube#videoCategory\",\n",
    "            \"etag\": \"IfWa37JGcqZs-jZeAyFGkbeh6bc\",\n",
    "            \"id\": \"1\",\n",
    "            \"snippet\": {\n",
    "                \"title\": \"{{category_string}}\",\n",
    "                \"assignable\":{{boolean}},\n",
    "                \"channelId\": \"{{string}}\"\n",
    "            }\n",
    "        },\n",
    "        {\n",
    "            \"kind\": \"youtube#videoCategory\",\n",
    "            \"etag\": \"5XGylIs7zkjHh5940dsT5862m1Y\",\n",
    "            \"id\": \"2\",\n",
    "            \"snippet\": {\n",
    "                \"title\": \"{{category_string}}\",\n",
    "                \"assignable\": {{boolean}},\n",
    "                \"channelId\": \"{{string}}\"\n",
    "            }\n",
    "        },\n",
    "\t]\n",
    "}\n",
    "```\n",
    "\n",
    "## Project Aim and Objectives (5 marks)\n",
    "\n",
    "The primary objective of this project is to perform an in-depth analysis of the \"Trending Youtube API Dataset\" to identify and understand the important attributes that results in the uploaded video to be \"trending\" in the platform. The project aims to find the patterns in the dataset that would push the videos, uploaded by the users, into the trending category; thus helping the content creators to optimize their video uploads accordingly that would contribute to the Youtube Algorithm.\n",
    "\n",
    "The aim of the project is achieved by making use of data analysis techniques and machine learning algorithms to find out the correlations between the different attributes in the dataset. We will make use of columns such as {categoryId, title,view_count,likes,dislikes etc.} to recognize the patterns resulting in a trending video. After thorough analysis of the various aspects, we aim to discern the commonalities among the trending videos, while also identifying the factors that may vary across the different genres of Youtube. \n",
    "\n",
    "In summary, the project aims to provide insight into the dynamics of Youtube Trending videos, thereby helping content creators in sharing content that would satisfy the Youtube algorithm and results in the video being in the Youtube Trending. The results will help in improving the experience of the users and Youtubers on the Youtube Platform.\n",
    "\n",
    "#_Here you should describe the general aim of your project in\n",
    "around 200-300 words._\n",
    "\n",
    "#_This can can be anything from classifying items according to\n",
    "their characteristic features (which mushrooms are poisonous?) \n",
    "to simulating an evolving process (will the rabbits eat all\n",
    "the carrots or get eaten by the foxes?)_\n",
    "\n",
    "#_Here some ideas of general types of processing functionality\n",
    "that you could implement:_\n",
    "\n",
    "* _Classification: separate data items into classes according\n",
    "  to their charactersitics (can be either a definite or a\n",
    "  statistical kind of classification)_\n",
    "* _Corellation: find correspondences between different attributes within\n",
    "  a dataset_\n",
    "* _Search: find solutions matching some criteria_\n",
    "* _Visualisation: find informative ways to\n",
    "  display the structure of a large and/or complex dataset_\n",
    "* _Query Answering: create a system that enables one to retrieve information by evaluating some form of query representation_\n",
    "* _Simulation: model the evolution of a complex process_\n",
    "\n",
    "### Specific Objective(s)\n",
    "\n",
    "_You should chose and list __up to 4__ specific objectives suited to the data you will be working with and the type of project you wish to carry out. \n",
    "There should be <b>at least one\n",
    "per person doing the project</b>. There is no need\n",
    "for  the objectives them to be completely different. \n",
    "They could be different\n",
    "stages of the processing requirements, or different processing\n",
    "functions that the system  provides. Or just\n",
    "different aspects of data analysis that will be conducted.\n",
    "Typically, it is expected that there would be one objective\n",
    "per person. Replace the following examples with your own objectives:_\n",
    "\n",
    "* __Objective 1:__ _Visualize the genres that trend in the United Kingdom_\n",
    "* __Objective 2:__ _Checks the key words to be used in the Title and/or Description for a video to be in the trending category_\n",
    "* __Objective 3:__ _Calculates whether the Likes, Dislikes and View Count influences a video to trend_\n",
    "* __Objective 4:__ _Check whether the upload date and time results in a video to trend_\n",
    "\n",
    "## System Design (5 marks)\n",
    "\n",
    "_Describe your code in terms of the\n",
    "following two sections._\n",
    "\n",
    "### Architecture\n",
    "\n",
    "_Typically this would be  a pipeline in which data goes through several\n",
    "stages of transformation and analysis, but other architectures are possible.\n",
    "This does not need to be particularly complicated. A simple diagram with\n",
    "100-150 words of explanation would\n",
    "be a good way to present your architecture._\n",
    "  \n",
    "### Processing Modules and Algorithms\n",
    "\n",
    "_Briefly list and describe the most significant computational components of your system and the algorithms you will use to implement them. \n",
    "This could include things like:_\n",
    "\n",
    "* _cleaning the data by removing outliers_\n",
    "* _combining different datasets_\n",
    "* _converting samples to a special representaion (such as feature vectors)_\n",
    "* _constructing a special data-structure (such as a decision tree)_\n",
    "* _running some kind of analysis_\n",
    "\n",
    "_Your list can be presented in similar form to the one just given, \n",
    "but should include a brief\n",
    "but more specific description of the components and/or algorithms.\n",
    "Probably three or four components is sufficient for most projects, but\n",
    "you may want to have more._"
   ]
  },
  {
   "cell_type": "markdown",
   "metadata": {},
   "source": [
    "# Program Code (15 marks)\n",
    "\n",
    "_Your code should be divided into relatively short cells, with brief\n",
    "explanation in markup cells between._\n",
    "\n",
    "_As noted in the assigment overview, it is not necessary that your coding be\n",
    "super complex in order to get a good mark. Although there is a mark for\n",
    "the coding achievement, it is only a quarter of the total._\n",
    "\n",
    "_The suggested length of the code is about 150 lines for 1 person or 500\n",
    "for a 4 peope project. You should not use more than 500 lines of code._\n",
    "\n",
    "_You should divide the code in accordance with the specification of modules and/or\n",
    "algorithms you gave in the previous section. Complex modules should be further\n",
    "divided into several code cells._\n",
    "\n",
    "Please note the following about your code:\n",
    "* <b><i>You may import any packages/modules you wish to use for your project.</i></b>\n",
    "\n",
    "\n",
    "* <b><i>You should submit your notebook in a state where all cells have been\n",
    "    executed and are displaying the output that you wish to present for grading.</i></b>\n",
    "    (We will not normally run your code, unless for some reason we wish to check\n",
    "    that the code functionality matches the given description.)\n",
    "    \n",
    "    \n",
    "* Although you may be programming in a \"pipeline\" style, it is strongly suggested you use function definitions to organise your code. As well as being generally good programming practice, it will be helpful for easy and flexibily presentation of results visualisations later in the document. In the visualisation sections you will be able to produce images in a concise and flexible way by calling functions defined in the program code secion."
   ]
  },
  {
   "cell_type": "markdown",
   "metadata": {},
   "source": [
    "## Module Imports\n",
    "\n",
    "We are importing ```pandas``` since it is used for DataFrame operations. ALong ith Pandas, we are alos using the built-in ```json``` to import our ```GB_category_id.json```"
   ]
  },
  {
   "cell_type": "code",
   "execution_count": 7,
   "metadata": {},
   "outputs": [],
   "source": [
    "import pandas as pd\n",
    "import json\n",
    "import matplotlib"
   ]
  },
  {
   "cell_type": "markdown",
   "metadata": {},
   "source": [
    "### Reading And Combining the two files\n",
    "\n",
    "In the following code block, we read the csv and transform it into a pandas dataframe called ```dataframe_csv```. We then read the json file into a vaariable called ```categories```. We then select the category title from ```categories``` and append it into a new column in the ```dataframe_csv``` dataframe."
   ]
  },
  {
   "cell_type": "code",
   "execution_count": 8,
   "metadata": {},
   "outputs": [
    {
     "data": {
      "text/html": [
       "<div>\n",
       "<style scoped>\n",
       "    .dataframe tbody tr th:only-of-type {\n",
       "        vertical-align: middle;\n",
       "    }\n",
       "\n",
       "    .dataframe tbody tr th {\n",
       "        vertical-align: top;\n",
       "    }\n",
       "\n",
       "    .dataframe thead th {\n",
       "        text-align: right;\n",
       "    }\n",
       "</style>\n",
       "<table border=\"1\" class=\"dataframe\">\n",
       "  <thead>\n",
       "    <tr style=\"text-align: right;\">\n",
       "      <th></th>\n",
       "      <th>video_id</th>\n",
       "      <th>title</th>\n",
       "      <th>publishedAt</th>\n",
       "      <th>channelId</th>\n",
       "      <th>channelTitle</th>\n",
       "      <th>categoryId</th>\n",
       "      <th>trending_date</th>\n",
       "      <th>tags</th>\n",
       "      <th>view_count</th>\n",
       "      <th>likes</th>\n",
       "      <th>dislikes</th>\n",
       "      <th>comment_count</th>\n",
       "      <th>thumbnail_link</th>\n",
       "      <th>comments_disabled</th>\n",
       "      <th>ratings_disabled</th>\n",
       "      <th>description</th>\n",
       "      <th>category</th>\n",
       "    </tr>\n",
       "  </thead>\n",
       "  <tbody>\n",
       "    <tr>\n",
       "      <th>0</th>\n",
       "      <td>J78aPJ3VyNs</td>\n",
       "      <td>I left youtube for a month and THIS is what ha...</td>\n",
       "      <td>2020-08-11T16:34:06Z</td>\n",
       "      <td>UCYzPXprvl5Y-Sf0g4vX-m6g</td>\n",
       "      <td>jacksepticeye</td>\n",
       "      <td>24</td>\n",
       "      <td>2020-08-12T00:00:00Z</td>\n",
       "      <td>jacksepticeye|funny|funny meme|memes|jacksepti...</td>\n",
       "      <td>2038853</td>\n",
       "      <td>353790</td>\n",
       "      <td>2628</td>\n",
       "      <td>40228</td>\n",
       "      <td>https://i.ytimg.com/vi/J78aPJ3VyNs/default.jpg</td>\n",
       "      <td>False</td>\n",
       "      <td>False</td>\n",
       "      <td>I left youtube for a month and this is what ha...</td>\n",
       "      <td>Entertainment</td>\n",
       "    </tr>\n",
       "    <tr>\n",
       "      <th>1</th>\n",
       "      <td>9nidKH8cM38</td>\n",
       "      <td>TAXI CAB SLAYER KILLS 'TO KNOW HOW IT FEELS'</td>\n",
       "      <td>2020-08-11T20:00:45Z</td>\n",
       "      <td>UCFMbX7frWZfuWdjAML0babA</td>\n",
       "      <td>Eleanor Neale</td>\n",
       "      <td>27</td>\n",
       "      <td>2020-08-12T00:00:00Z</td>\n",
       "      <td>eleanor|neale|eleanor neale|eleanor neale true...</td>\n",
       "      <td>236830</td>\n",
       "      <td>16423</td>\n",
       "      <td>209</td>\n",
       "      <td>1642</td>\n",
       "      <td>https://i.ytimg.com/vi/9nidKH8cM38/default.jpg</td>\n",
       "      <td>False</td>\n",
       "      <td>False</td>\n",
       "      <td>The first 1000 people to click the link will g...</td>\n",
       "      <td>Education</td>\n",
       "    </tr>\n",
       "    <tr>\n",
       "      <th>2</th>\n",
       "      <td>M9Pmf9AB4Mo</td>\n",
       "      <td>Apex Legends | Stories from the Outlands – “Th...</td>\n",
       "      <td>2020-08-11T17:00:10Z</td>\n",
       "      <td>UC0ZV6M2THA81QT9hrVWJG3A</td>\n",
       "      <td>Apex Legends</td>\n",
       "      <td>20</td>\n",
       "      <td>2020-08-12T00:00:00Z</td>\n",
       "      <td>Apex Legends|Apex Legends characters|new Apex ...</td>\n",
       "      <td>2381688</td>\n",
       "      <td>146739</td>\n",
       "      <td>2794</td>\n",
       "      <td>16549</td>\n",
       "      <td>https://i.ytimg.com/vi/M9Pmf9AB4Mo/default.jpg</td>\n",
       "      <td>False</td>\n",
       "      <td>False</td>\n",
       "      <td>While running her own modding shop, Ramya Pare...</td>\n",
       "      <td>Gaming</td>\n",
       "    </tr>\n",
       "    <tr>\n",
       "      <th>3</th>\n",
       "      <td>kgUV1MaD_M8</td>\n",
       "      <td>Nines - Clout (Official Video)</td>\n",
       "      <td>2020-08-10T18:30:28Z</td>\n",
       "      <td>UCvDkzrj8ZPlBqRd6fIxdhTw</td>\n",
       "      <td>Nines</td>\n",
       "      <td>24</td>\n",
       "      <td>2020-08-12T00:00:00Z</td>\n",
       "      <td>Nines|Trapper of the year|Crop Circle|Nines Tr...</td>\n",
       "      <td>613785</td>\n",
       "      <td>37567</td>\n",
       "      <td>669</td>\n",
       "      <td>2101</td>\n",
       "      <td>https://i.ytimg.com/vi/kgUV1MaD_M8/default.jpg</td>\n",
       "      <td>False</td>\n",
       "      <td>False</td>\n",
       "      <td>Nines - Clout (Official Video)Listen to Clout ...</td>\n",
       "      <td>Entertainment</td>\n",
       "    </tr>\n",
       "    <tr>\n",
       "      <th>4</th>\n",
       "      <td>49Z6Mv4_WCA</td>\n",
       "      <td>i don't know what im doing anymore</td>\n",
       "      <td>2020-08-11T20:24:34Z</td>\n",
       "      <td>UCtinbF-Q-fVthA0qrFQTgXQ</td>\n",
       "      <td>CaseyNeistat</td>\n",
       "      <td>22</td>\n",
       "      <td>2020-08-12T00:00:00Z</td>\n",
       "      <td>[None]</td>\n",
       "      <td>940036</td>\n",
       "      <td>87113</td>\n",
       "      <td>1860</td>\n",
       "      <td>7052</td>\n",
       "      <td>https://i.ytimg.com/vi/49Z6Mv4_WCA/default.jpg</td>\n",
       "      <td>False</td>\n",
       "      <td>False</td>\n",
       "      <td>ssend love to my sponsor; for a super Limited ...</td>\n",
       "      <td>People &amp; Blogs</td>\n",
       "    </tr>\n",
       "  </tbody>\n",
       "</table>\n",
       "</div>"
      ],
      "text/plain": [
       "      video_id                                              title  \\\n",
       "0  J78aPJ3VyNs  I left youtube for a month and THIS is what ha...   \n",
       "1  9nidKH8cM38       TAXI CAB SLAYER KILLS 'TO KNOW HOW IT FEELS'   \n",
       "2  M9Pmf9AB4Mo  Apex Legends | Stories from the Outlands – “Th...   \n",
       "3  kgUV1MaD_M8                     Nines - Clout (Official Video)   \n",
       "4  49Z6Mv4_WCA                 i don't know what im doing anymore   \n",
       "\n",
       "            publishedAt                 channelId   channelTitle  categoryId  \\\n",
       "0  2020-08-11T16:34:06Z  UCYzPXprvl5Y-Sf0g4vX-m6g  jacksepticeye          24   \n",
       "1  2020-08-11T20:00:45Z  UCFMbX7frWZfuWdjAML0babA  Eleanor Neale          27   \n",
       "2  2020-08-11T17:00:10Z  UC0ZV6M2THA81QT9hrVWJG3A   Apex Legends          20   \n",
       "3  2020-08-10T18:30:28Z  UCvDkzrj8ZPlBqRd6fIxdhTw          Nines          24   \n",
       "4  2020-08-11T20:24:34Z  UCtinbF-Q-fVthA0qrFQTgXQ   CaseyNeistat          22   \n",
       "\n",
       "          trending_date                                               tags  \\\n",
       "0  2020-08-12T00:00:00Z  jacksepticeye|funny|funny meme|memes|jacksepti...   \n",
       "1  2020-08-12T00:00:00Z  eleanor|neale|eleanor neale|eleanor neale true...   \n",
       "2  2020-08-12T00:00:00Z  Apex Legends|Apex Legends characters|new Apex ...   \n",
       "3  2020-08-12T00:00:00Z  Nines|Trapper of the year|Crop Circle|Nines Tr...   \n",
       "4  2020-08-12T00:00:00Z                                             [None]   \n",
       "\n",
       "   view_count   likes  dislikes  comment_count  \\\n",
       "0     2038853  353790      2628          40228   \n",
       "1      236830   16423       209           1642   \n",
       "2     2381688  146739      2794          16549   \n",
       "3      613785   37567       669           2101   \n",
       "4      940036   87113      1860           7052   \n",
       "\n",
       "                                   thumbnail_link  comments_disabled  \\\n",
       "0  https://i.ytimg.com/vi/J78aPJ3VyNs/default.jpg              False   \n",
       "1  https://i.ytimg.com/vi/9nidKH8cM38/default.jpg              False   \n",
       "2  https://i.ytimg.com/vi/M9Pmf9AB4Mo/default.jpg              False   \n",
       "3  https://i.ytimg.com/vi/kgUV1MaD_M8/default.jpg              False   \n",
       "4  https://i.ytimg.com/vi/49Z6Mv4_WCA/default.jpg              False   \n",
       "\n",
       "   ratings_disabled                                        description  \\\n",
       "0             False  I left youtube for a month and this is what ha...   \n",
       "1             False  The first 1000 people to click the link will g...   \n",
       "2             False  While running her own modding shop, Ramya Pare...   \n",
       "3             False  Nines - Clout (Official Video)Listen to Clout ...   \n",
       "4             False  ssend love to my sponsor; for a super Limited ...   \n",
       "\n",
       "         category  \n",
       "0   Entertainment  \n",
       "1       Education  \n",
       "2          Gaming  \n",
       "3   Entertainment  \n",
       "4  People & Blogs  "
      ]
     },
     "execution_count": 8,
     "metadata": {},
     "output_type": "execute_result"
    }
   ],
   "source": [
    "\n",
    "df = pd.read_csv('GB_youtube_trending_data.csv')\n",
    "\n",
    "# Load the categories\n",
    "with open('GB_category_id.json') as f:\n",
    "    categories = json.load(f)\n",
    "\n",
    "# Create a dictionary to map category IDs to category names\n",
    "category_dict = {int(item['id']): item['snippet']['title'] for item in categories['items']}\n",
    "\n",
    "# Map the category IDs in the dataframe to the category names\n",
    "df['category'] = df['categoryId'].map(category_dict)\n",
    "\n",
    "df.head()"
   ]
  },
  {
   "cell_type": "markdown",
   "metadata": {},
   "source": [
    "## Data Exploration\n",
    "\n",
    "After combining both files into a single dataframe, we proceed withour initial data exploration. "
   ]
  },
  {
   "cell_type": "code",
   "execution_count": 9,
   "metadata": {},
   "outputs": [
    {
     "data": {
      "text/plain": [
       "(238391, 17)"
      ]
     },
     "execution_count": 9,
     "metadata": {},
     "output_type": "execute_result"
    }
   ],
   "source": [
    "df.shape"
   ]
  },
  {
   "cell_type": "markdown",
   "metadata": {},
   "source": [
    "In the previous code block, we take note that there are ```17``` features and ```238391``` trending videos. To ensure correct analysis we check for number of missing numbers in each column and summing it columnwise."
   ]
  },
  {
   "cell_type": "code",
   "execution_count": 10,
   "metadata": {},
   "outputs": [
    {
     "data": {
      "text/plain": [
       "video_id                0\n",
       "title                   0\n",
       "publishedAt             0\n",
       "channelId               0\n",
       "channelTitle            0\n",
       "categoryId              0\n",
       "trending_date           0\n",
       "tags                    0\n",
       "view_count              0\n",
       "likes                   0\n",
       "dislikes                0\n",
       "comment_count           0\n",
       "thumbnail_link          0\n",
       "comments_disabled       0\n",
       "ratings_disabled        0\n",
       "description          4281\n",
       "category              102\n",
       "dtype: int64"
      ]
     },
     "execution_count": 10,
     "metadata": {},
     "output_type": "execute_result"
    }
   ],
   "source": [
    "df.isna().sum()"
   ]
  },
  {
   "cell_type": "markdown",
   "metadata": {},
   "source": [
    "From the above output we can see there are ```4281``` missing descriptions and ```102``` missing categories. Since missing values in the columns won't cause problems in our analysis, we will not drop those rows."
   ]
  },
  {
   "cell_type": "markdown",
   "metadata": {},
   "source": [
    "### Duplicate Check\n",
    "\n",
    "We then check for duplicate rows in the dataframe using the ```duplicated()``` function of pandas. We then sum up the total to see how many rows are duplicates. From the result 124 rows are duplicates."
   ]
  },
  {
   "cell_type": "code",
   "execution_count": 11,
   "metadata": {},
   "outputs": [
    {
     "data": {
      "text/plain": [
       "124"
      ]
     },
     "execution_count": 11,
     "metadata": {},
     "output_type": "execute_result"
    }
   ],
   "source": [
    "df.duplicated().sum()"
   ]
  },
  {
   "cell_type": "markdown",
   "metadata": {},
   "source": [
    "We can use ```drop_duplicates()``` function to drop those rows. We can then check the shape of the dataframe to cross verify that the duplicates were successfully deleted."
   ]
  },
  {
   "cell_type": "code",
   "execution_count": 12,
   "metadata": {},
   "outputs": [
    {
     "data": {
      "text/plain": [
       "(238267, 17)"
      ]
     },
     "execution_count": 12,
     "metadata": {},
     "output_type": "execute_result"
    }
   ],
   "source": [
    "df = df.drop_duplicates()\n",
    "df.shape"
   ]
  },
  {
   "cell_type": "markdown",
   "metadata": {},
   "source": [
    "### Objective 1 Code Cells\n",
    "\n",
    "To understand the relation betwween categories and videos that trend, we plot a bar graph with total videos on the Y - axis and the categories in the X - axis."
   ]
  },
  {
   "cell_type": "code",
   "execution_count": 49,
   "metadata": {},
   "outputs": [
    {
     "data": {
      "text/plain": [
       "<Axes: xlabel='category'>"
      ]
     },
     "execution_count": 49,
     "metadata": {},
     "output_type": "execute_result"
    },
    {
     "data": {
      "image/png": "[encoded data removed]",
      "text/plain": [
       "<Figure size 640x480 with 1 Axes>"
      ]
     },
     "metadata": {},
     "output_type": "display_data"
    }
   ],
   "source": [
    "\n",
    "df['category'].value_counts().plot.bar()"
   ]
  },
  {
   "cell_type": "markdown",
   "metadata": {},
   "source": [
    "The above graph shows that the top 5 categories, i.e Entertainment, Sports, Gaming, Music, People & Blogs contribute the most towards a video trending. To confirm this, we plot a stacked bar graph for each month."
   ]
  },
  {
   "cell_type": "markdown",
   "metadata": {},
   "source": [
    "The below code is used to split the ```trending_date``` column into two different columns called ```month``` and ```year```. The month column is then transformed from an integer series to proper names of the months. \n",
    "\n",
    "The bar graph can be then plotted for month and category."
   ]
  },
  {
   "cell_type": "code",
   "execution_count": 50,
   "metadata": {},
   "outputs": [
    {
     "data": {
      "text/plain": [
       "<Axes: xlabel='month'>"
      ]
     },
     "execution_count": 50,
     "metadata": {},
     "output_type": "execute_result"
    },
    {
     "data": {
      "image/png": "[encoded data removed]",
      "text/plain": [
       "<Figure size 1500x1000 with 1 Axes>"
      ]
     },
     "metadata": {},
     "output_type": "display_data"
    }
   ],
   "source": [
    "# plot bar graph based on category and date by month\n",
    "df['date'] = pd.to_datetime(df['trending_date'])\n",
    "df['month'] = df['date'].dt.month\n",
    "df['year'] = df['date'].dt.year\n",
    "df['month'] = df['month'].replace((1,2,3,4,5,6,7,8,9,10,11,12),('Jan','Feb','Mar','Apr','May','Jun','Jul','Aug','Sep','Oct','Nov','Dec'))\n",
    "#plot bar graph based on category and date by month\n",
    "df.groupby(['month','category']).size().unstack().plot(kind='bar',stacked=True,figsize=(15,10))"
   ]
  },
  {
   "cell_type": "markdown",
   "metadata": {},
   "source": [
    "The above graph confirms that the top 5 categories contibute the most over an entire year. "
   ]
  },
  {
   "cell_type": "markdown",
   "metadata": {},
   "source": [
    "We can then plot each of the Top 5 category alongside the count for each of the years, starting from 2020 - 2023."
   ]
  },
  {
   "cell_type": "code",
   "execution_count": 43,
   "metadata": {},
   "outputs": [
    {
     "data": {
      "text/plain": [
       "<Axes: xlabel='year,year'>"
      ]
     },
     "execution_count": 43,
     "metadata": {},
     "output_type": "execute_result"
    },
    {
     "data": {
      "image/png": "[encoded data removed]",
      "text/plain": [
       "<Figure size 1500x1000 with 1 Axes>"
      ]
     },
     "metadata": {},
     "output_type": "display_data"
    }
   ],
   "source": [
    "# plot grouped bar graph for top 5 category per year\n",
    "df.groupby(['year','category']).size().groupby(level=0).nlargest(5).unstack().plot(kind='bar',stacked=False,figsize=(15,10)) "
   ]
  },
  {
   "cell_type": "markdown",
   "metadata": {},
   "source": [
    "#### _Comment on previous cell output (optional)_\n",
    "_The output from the previous cell is very interesting._"
   ]
  },
  {
   "cell_type": "markdown",
   "metadata": {},
   "source": [
    "_The following cell defines a visualisation function for the data._"
   ]
  },
  {
   "cell_type": "code",
   "execution_count": 31,
   "metadata": {},
   "outputs": [],
   "source": [
    "def fridge_sorted_bar(color='blue'):\n",
    "    df.sort_values(0).plot.bar( color=color)   "
   ]
  },
  {
   "cell_type": "markdown",
   "metadata": {},
   "source": [
    "###  _More code cells_\n",
    "_You can add as many code cells as you require, but it is\n",
    "recommended that you break code into relatively small chunks and\n",
    "do not exceed the maximum number of lines stated above._"
   ]
  },
  {
   "cell_type": "markdown",
   "metadata": {},
   "source": [
    "# Project Outcome (10 + 10 marks)\n",
    "\n",
    "_This section should describe the outcome of the project by means of both explanation of the results and by graphical visualisation in the form of graphs, charts or or other kinds of diagram_\n",
    "\n",
    "_The section should begin with a general overview of the results and then have a section for each of the project objectives. For each of these objectives an explanation of more specific results relating to that objective shoud be given, followed by a section presenting some visualisation of the results obtained. (In the case where\n",
    "the project had just one objective, you should still have a section describing\n",
    "the results from a general perspective followed by a section that focuses on\n",
    "the particular objective.)_\n",
    "\n",
    "_The marks for this section will be divided into 10 marks for Explanation\n",
    "and 10 marks for Visualisation. These marks will be awarded for the Project Outcome\n",
    "section as a whole, not for each objective individually. Hence, you do not\n",
    "have to pay equal attention to each. However, you are expected to have a\n",
    "some explanation and visualisation for each. It is suggested you have\n",
    "200-400 words explanation for each objective._"
   ]
  },
  {
   "cell_type": "markdown",
   "metadata": {
    "slideshow": {
     "slide_type": "fragment"
    }
   },
   "source": [
    "## Overview of Results\n",
    "_Give a general overview of the results (around 200 words)._"
   ]
  },
  {
   "cell_type": "markdown",
   "metadata": {},
   "source": [
    "## Objective 1 : Relationship between Video Category and likelihood of it trending. \n",
    "\n",
    "### Explanation of Results\n",
    "\n",
    "_200-400 words_\n",
    "\n",
    "### Visualisation\n",
    "_The following bar chart gives a vivid representation of the distribution\n",
    "of fridge magnet types, in which the dominance of 'meme' type magnets\n",
    "is dramatically illustrated._"
   ]
  },
  {
   "cell_type": "code",
   "execution_count": 32,
   "metadata": {},
   "outputs": [
    {
     "data": {
      "image/png": "[encoded data removed]",
      "text/plain": [
       "<Figure size 432x288 with 1 Axes>"
      ]
     },
     "metadata": {
      "needs_background": "light"
     },
     "output_type": "display_data"
    }
   ],
   "source": [
    "fridge_sorted_bar(color='red')"
   ]
  },
  {
   "cell_type": "markdown",
   "metadata": {},
   "source": [
    "## Objective 2\n",
    "### Explanation of Results\n",
    "\n",
    "200-400 Words\n",
    "\n",
    "### Visualisation"
   ]
  },
  {
   "cell_type": "markdown",
   "metadata": {},
   "source": [
    "## Objective 3\n",
    "### Explanation of Results\n",
    "\n",
    "200-400 Words\n",
    "\n",
    "### Visualisation"
   ]
  },
  {
   "cell_type": "markdown",
   "metadata": {},
   "source": [
    "## Objective 4 \n",
    "### Explanation of Results\n",
    "\n",
    "200-400 Words\n",
    "\n",
    "### Visualisation"
   ]
  },
  {
   "cell_type": "markdown",
   "metadata": {},
   "source": [
    "# Conclusion (5 marks)\n",
    "\n",
    "_Your concluding section should be around 200-400 words. It is recommended\n",
    "that you divide it into the following sections._\n",
    "\n",
    "### Achievements\n",
    "_As we had expected, the most popular fridge magnets were of the 'meme' kind.\n",
    "We were surprised that 'smiley' fridge magnets were less common than expected.\n",
    "We conjecture that this is because, although they are apparently very popular,\n",
    "few fridges display more than one smiley. However, 'meme' based magnets can\n",
    "be found in large numbers, even on quite small fridges._\n",
    "\n",
    "### Limitations\n",
    "\n",
    "_The project was limited to a small number of fridge magents, which may not be\n",
    "typical of fridges found in the global fridge magnet ecosystem._\n",
    "\n",
    "### Future Work\n",
    "\n",
    "_In future work we would like to obtain more diverse data and study fridge magnets \n",
    "beyond the limited confines of student accomodation. We hypothesise that there\n",
    "could be a link between fridge magnet types and social class and/or educational\n",
    "achievement._"
   ]
  },
  {
   "cell_type": "code",
   "execution_count": null,
   "metadata": {},
   "outputs": [],
   "source": []
  }
 ],
 "metadata": {
  "kernelspec": {
   "display_name": "Python 3",
   "language": "python",
   "name": "python3"
  },
  "language_info": {
   "codemirror_mode": {
    "name": "ipython",
    "version": 3
   },
   "file_extension": ".py",
   "mimetype": "text/x-python",
   "name": "python",
   "nbconvert_exporter": "python",
   "pygments_lexer": "ipython3",
   "version": "3.11.5"
  }
 },
 "nbformat": 4,
 "nbformat_minor": 4
}
